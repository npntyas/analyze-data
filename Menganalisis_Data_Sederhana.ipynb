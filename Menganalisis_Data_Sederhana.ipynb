{
  "nbformat": 4,
  "nbformat_minor": 0,
  "metadata": {
    "colab": {
      "name": "Menganalisis Data Sederhana.ipynb",
      "provenance": []
    },
    "kernelspec": {
      "name": "python3",
      "display_name": "Python 3"
    },
    "language_info": {
      "name": "python"
    }
  },
  "cells": [
    {
      "cell_type": "markdown",
      "metadata": {
        "id": "c8zX38J7VUoU"
      },
      "source": [
        "**Menganalis Data**"
      ]
    },
    {
      "cell_type": "markdown",
      "metadata": {
        "id": "vgu1_cgpG29U"
      },
      "source": [
        "Perkenalkan nama saya Novita Purwonintyas, Kali ini saya akan menganalis data menggunakan bahasa pemograman Pyhton. Data yang akan di analisa merupakan dataset Kickstarter Projects. Tujuan yang akan di capai antara lain:\n",
        "1. Melakukan data loading, data cleaning, dan eksplorasi data.\n",
        "\n",
        "2. Mencari Measure of Central Tendency (Mean, Median, dan Modus).\n",
        "\n",
        "3. Measure of Variance (Range, Variance, dan Standar Deviasi).\n",
        "\n",
        "4. Mencari Confidence Intervals.\n",
        "\n",
        "5. Melakukan 1 Hipotesis Testing."
      ]
    },
    {
      "cell_type": "code",
      "metadata": {
        "id": "gaG_nb0bm0I_"
      },
      "source": [
        "#Library yang digunakan untuk analisa data kali ini adalah\n",
        "import pandas as pd\n",
        "import numpy as np\n",
        "from scipy import stats"
      ],
      "execution_count": null,
      "outputs": []
    },
    {
      "cell_type": "markdown",
      "metadata": {
        "id": "YkQZHj919mXe"
      },
      "source": [
        "#Data Loading"
      ]
    },
    {
      "cell_type": "code",
      "metadata": {
        "colab": {
          "base_uri": "https://localhost:8080/",
          "height": 479
        },
        "id": "Xc21sCTrn2Vt",
        "outputId": "2c64f933-6ea3-47ff-f983-60f04966054e"
      },
      "source": [
        "#Membaca data file CSV menggunakan library pandas\n",
        "data = pd.read_csv('/content/ks-projects-201801.csv')\n",
        "data.head(5)"
      ],
      "execution_count": null,
      "outputs": [
        {
          "output_type": "execute_result",
          "data": {
            "text/html": [
              "<div>\n",
              "<style scoped>\n",
              "    .dataframe tbody tr th:only-of-type {\n",
              "        vertical-align: middle;\n",
              "    }\n",
              "\n",
              "    .dataframe tbody tr th {\n",
              "        vertical-align: top;\n",
              "    }\n",
              "\n",
              "    .dataframe thead th {\n",
              "        text-align: right;\n",
              "    }\n",
              "</style>\n",
              "<table border=\"1\" class=\"dataframe\">\n",
              "  <thead>\n",
              "    <tr style=\"text-align: right;\">\n",
              "      <th></th>\n",
              "      <th>ID</th>\n",
              "      <th>name</th>\n",
              "      <th>category</th>\n",
              "      <th>main_category</th>\n",
              "      <th>currency</th>\n",
              "      <th>deadline</th>\n",
              "      <th>goal</th>\n",
              "      <th>launched</th>\n",
              "      <th>pledged</th>\n",
              "      <th>state</th>\n",
              "      <th>backers</th>\n",
              "      <th>country</th>\n",
              "      <th>usd pledged</th>\n",
              "      <th>usd_pledged_real</th>\n",
              "      <th>usd_goal_real</th>\n",
              "    </tr>\n",
              "  </thead>\n",
              "  <tbody>\n",
              "    <tr>\n",
              "      <th>0</th>\n",
              "      <td>1000002330</td>\n",
              "      <td>The Songs of Adelaide &amp; Abullah</td>\n",
              "      <td>Poetry</td>\n",
              "      <td>Publishing</td>\n",
              "      <td>GBP</td>\n",
              "      <td>2015-10-09</td>\n",
              "      <td>1000.0</td>\n",
              "      <td>2015-08-11 12:12:28</td>\n",
              "      <td>0.0</td>\n",
              "      <td>failed</td>\n",
              "      <td>0</td>\n",
              "      <td>GB</td>\n",
              "      <td>0.0</td>\n",
              "      <td>0.0</td>\n",
              "      <td>1533.95</td>\n",
              "    </tr>\n",
              "    <tr>\n",
              "      <th>1</th>\n",
              "      <td>1000003930</td>\n",
              "      <td>Greeting From Earth: ZGAC Arts Capsule For ET</td>\n",
              "      <td>Narrative Film</td>\n",
              "      <td>Film &amp; Video</td>\n",
              "      <td>USD</td>\n",
              "      <td>2017-11-01</td>\n",
              "      <td>30000.0</td>\n",
              "      <td>2017-09-02 04:43:57</td>\n",
              "      <td>2421.0</td>\n",
              "      <td>failed</td>\n",
              "      <td>15</td>\n",
              "      <td>US</td>\n",
              "      <td>100.0</td>\n",
              "      <td>2421.0</td>\n",
              "      <td>30000.00</td>\n",
              "    </tr>\n",
              "    <tr>\n",
              "      <th>2</th>\n",
              "      <td>1000004038</td>\n",
              "      <td>Where is Hank?</td>\n",
              "      <td>Narrative Film</td>\n",
              "      <td>Film &amp; Video</td>\n",
              "      <td>USD</td>\n",
              "      <td>2013-02-26</td>\n",
              "      <td>45000.0</td>\n",
              "      <td>2013-01-12 00:20:50</td>\n",
              "      <td>220.0</td>\n",
              "      <td>failed</td>\n",
              "      <td>3</td>\n",
              "      <td>US</td>\n",
              "      <td>220.0</td>\n",
              "      <td>220.0</td>\n",
              "      <td>45000.00</td>\n",
              "    </tr>\n",
              "    <tr>\n",
              "      <th>3</th>\n",
              "      <td>1000007540</td>\n",
              "      <td>ToshiCapital Rekordz Needs Help to Complete Album</td>\n",
              "      <td>Music</td>\n",
              "      <td>Music</td>\n",
              "      <td>USD</td>\n",
              "      <td>2012-04-16</td>\n",
              "      <td>5000.0</td>\n",
              "      <td>2012-03-17 03:24:11</td>\n",
              "      <td>1.0</td>\n",
              "      <td>failed</td>\n",
              "      <td>1</td>\n",
              "      <td>US</td>\n",
              "      <td>1.0</td>\n",
              "      <td>1.0</td>\n",
              "      <td>5000.00</td>\n",
              "    </tr>\n",
              "    <tr>\n",
              "      <th>4</th>\n",
              "      <td>1000011046</td>\n",
              "      <td>Community Film Project: The Art of Neighborhoo...</td>\n",
              "      <td>Film &amp; Video</td>\n",
              "      <td>Film &amp; Video</td>\n",
              "      <td>USD</td>\n",
              "      <td>2015-08-29</td>\n",
              "      <td>19500.0</td>\n",
              "      <td>2015-07-04 08:35:03</td>\n",
              "      <td>1283.0</td>\n",
              "      <td>canceled</td>\n",
              "      <td>14</td>\n",
              "      <td>US</td>\n",
              "      <td>1283.0</td>\n",
              "      <td>1283.0</td>\n",
              "      <td>19500.00</td>\n",
              "    </tr>\n",
              "  </tbody>\n",
              "</table>\n",
              "</div>"
            ],
            "text/plain": [
              "           ID  ... usd_goal_real\n",
              "0  1000002330  ...       1533.95\n",
              "1  1000003930  ...      30000.00\n",
              "2  1000004038  ...      45000.00\n",
              "3  1000007540  ...       5000.00\n",
              "4  1000011046  ...      19500.00\n",
              "\n",
              "[5 rows x 15 columns]"
            ]
          },
          "metadata": {},
          "execution_count": 20
        }
      ]
    },
    {
      "cell_type": "code",
      "metadata": {
        "colab": {
          "base_uri": "https://localhost:8080/"
        },
        "id": "OF2EmZpJqW9C",
        "outputId": "10795ee7-a80f-4bd1-d4fa-64c8b3229203"
      },
      "source": [
        "data.info()"
      ],
      "execution_count": null,
      "outputs": [
        {
          "output_type": "stream",
          "name": "stdout",
          "text": [
            "<class 'pandas.core.frame.DataFrame'>\n",
            "RangeIndex: 378661 entries, 0 to 378660\n",
            "Data columns (total 15 columns):\n",
            " #   Column            Non-Null Count   Dtype  \n",
            "---  ------            --------------   -----  \n",
            " 0   ID                378661 non-null  int64  \n",
            " 1   name              378657 non-null  object \n",
            " 2   category          378661 non-null  object \n",
            " 3   main_category     378661 non-null  object \n",
            " 4   currency          378661 non-null  object \n",
            " 5   deadline          378661 non-null  object \n",
            " 6   goal              378661 non-null  float64\n",
            " 7   launched          378661 non-null  object \n",
            " 8   pledged           378661 non-null  float64\n",
            " 9   state             378661 non-null  object \n",
            " 10  backers           378661 non-null  int64  \n",
            " 11  country           378661 non-null  object \n",
            " 12  usd pledged       374864 non-null  float64\n",
            " 13  usd_pledged_real  378661 non-null  float64\n",
            " 14  usd_goal_real     378661 non-null  float64\n",
            "dtypes: float64(5), int64(2), object(8)\n",
            "memory usage: 43.3+ MB\n"
          ]
        }
      ]
    },
    {
      "cell_type": "code",
      "metadata": {
        "colab": {
          "base_uri": "https://localhost:8080/",
          "height": 297
        },
        "id": "7kZsrlcqrN6i",
        "outputId": "7041d2e4-c88c-4fa1-da65-ff7d892cd16e"
      },
      "source": [
        "data.describe()"
      ],
      "execution_count": null,
      "outputs": [
        {
          "output_type": "execute_result",
          "data": {
            "text/html": [
              "<div>\n",
              "<style scoped>\n",
              "    .dataframe tbody tr th:only-of-type {\n",
              "        vertical-align: middle;\n",
              "    }\n",
              "\n",
              "    .dataframe tbody tr th {\n",
              "        vertical-align: top;\n",
              "    }\n",
              "\n",
              "    .dataframe thead th {\n",
              "        text-align: right;\n",
              "    }\n",
              "</style>\n",
              "<table border=\"1\" class=\"dataframe\">\n",
              "  <thead>\n",
              "    <tr style=\"text-align: right;\">\n",
              "      <th></th>\n",
              "      <th>ID</th>\n",
              "      <th>goal</th>\n",
              "      <th>pledged</th>\n",
              "      <th>backers</th>\n",
              "      <th>usd pledged</th>\n",
              "      <th>usd_pledged_real</th>\n",
              "      <th>usd_goal_real</th>\n",
              "    </tr>\n",
              "  </thead>\n",
              "  <tbody>\n",
              "    <tr>\n",
              "      <th>count</th>\n",
              "      <td>3.786610e+05</td>\n",
              "      <td>3.786610e+05</td>\n",
              "      <td>3.786610e+05</td>\n",
              "      <td>378661.000000</td>\n",
              "      <td>3.748640e+05</td>\n",
              "      <td>3.786610e+05</td>\n",
              "      <td>3.786610e+05</td>\n",
              "    </tr>\n",
              "    <tr>\n",
              "      <th>mean</th>\n",
              "      <td>1.074731e+09</td>\n",
              "      <td>4.908079e+04</td>\n",
              "      <td>9.682979e+03</td>\n",
              "      <td>105.617476</td>\n",
              "      <td>7.036729e+03</td>\n",
              "      <td>9.058924e+03</td>\n",
              "      <td>4.545440e+04</td>\n",
              "    </tr>\n",
              "    <tr>\n",
              "      <th>std</th>\n",
              "      <td>6.190862e+08</td>\n",
              "      <td>1.183391e+06</td>\n",
              "      <td>9.563601e+04</td>\n",
              "      <td>907.185035</td>\n",
              "      <td>7.863975e+04</td>\n",
              "      <td>9.097334e+04</td>\n",
              "      <td>1.152950e+06</td>\n",
              "    </tr>\n",
              "    <tr>\n",
              "      <th>min</th>\n",
              "      <td>5.971000e+03</td>\n",
              "      <td>1.000000e-02</td>\n",
              "      <td>0.000000e+00</td>\n",
              "      <td>0.000000</td>\n",
              "      <td>0.000000e+00</td>\n",
              "      <td>0.000000e+00</td>\n",
              "      <td>1.000000e-02</td>\n",
              "    </tr>\n",
              "    <tr>\n",
              "      <th>25%</th>\n",
              "      <td>5.382635e+08</td>\n",
              "      <td>2.000000e+03</td>\n",
              "      <td>3.000000e+01</td>\n",
              "      <td>2.000000</td>\n",
              "      <td>1.698000e+01</td>\n",
              "      <td>3.100000e+01</td>\n",
              "      <td>2.000000e+03</td>\n",
              "    </tr>\n",
              "    <tr>\n",
              "      <th>50%</th>\n",
              "      <td>1.075276e+09</td>\n",
              "      <td>5.200000e+03</td>\n",
              "      <td>6.200000e+02</td>\n",
              "      <td>12.000000</td>\n",
              "      <td>3.947200e+02</td>\n",
              "      <td>6.243300e+02</td>\n",
              "      <td>5.500000e+03</td>\n",
              "    </tr>\n",
              "    <tr>\n",
              "      <th>75%</th>\n",
              "      <td>1.610149e+09</td>\n",
              "      <td>1.600000e+04</td>\n",
              "      <td>4.076000e+03</td>\n",
              "      <td>56.000000</td>\n",
              "      <td>3.034090e+03</td>\n",
              "      <td>4.050000e+03</td>\n",
              "      <td>1.550000e+04</td>\n",
              "    </tr>\n",
              "    <tr>\n",
              "      <th>max</th>\n",
              "      <td>2.147476e+09</td>\n",
              "      <td>1.000000e+08</td>\n",
              "      <td>2.033899e+07</td>\n",
              "      <td>219382.000000</td>\n",
              "      <td>2.033899e+07</td>\n",
              "      <td>2.033899e+07</td>\n",
              "      <td>1.663614e+08</td>\n",
              "    </tr>\n",
              "  </tbody>\n",
              "</table>\n",
              "</div>"
            ],
            "text/plain": [
              "                 ID          goal  ...  usd_pledged_real  usd_goal_real\n",
              "count  3.786610e+05  3.786610e+05  ...      3.786610e+05   3.786610e+05\n",
              "mean   1.074731e+09  4.908079e+04  ...      9.058924e+03   4.545440e+04\n",
              "std    6.190862e+08  1.183391e+06  ...      9.097334e+04   1.152950e+06\n",
              "min    5.971000e+03  1.000000e-02  ...      0.000000e+00   1.000000e-02\n",
              "25%    5.382635e+08  2.000000e+03  ...      3.100000e+01   2.000000e+03\n",
              "50%    1.075276e+09  5.200000e+03  ...      6.243300e+02   5.500000e+03\n",
              "75%    1.610149e+09  1.600000e+04  ...      4.050000e+03   1.550000e+04\n",
              "max    2.147476e+09  1.000000e+08  ...      2.033899e+07   1.663614e+08\n",
              "\n",
              "[8 rows x 7 columns]"
            ]
          },
          "metadata": {},
          "execution_count": 8
        }
      ]
    },
    {
      "cell_type": "markdown",
      "metadata": {
        "id": "Ee0S7GAPxdDH"
      },
      "source": [
        "#Data Cleaning"
      ]
    },
    {
      "cell_type": "code",
      "metadata": {
        "colab": {
          "base_uri": "https://localhost:8080/"
        },
        "id": "NRFn-0aDxf5g",
        "outputId": "86b06ee1-9b37-444a-9d4a-8ca3a1a61194"
      },
      "source": [
        "#Mengecek missing value pada tiap kolom data\n",
        "data.isnull().sum()"
      ],
      "execution_count": null,
      "outputs": [
        {
          "output_type": "execute_result",
          "data": {
            "text/plain": [
              "ID                     0\n",
              "name                   4\n",
              "category               0\n",
              "main_category          0\n",
              "currency               0\n",
              "deadline               0\n",
              "goal                   0\n",
              "launched               0\n",
              "pledged                0\n",
              "state                  0\n",
              "backers                0\n",
              "country                0\n",
              "usd pledged         3797\n",
              "usd_pledged_real       0\n",
              "usd_goal_real          0\n",
              "dtype: int64"
            ]
          },
          "metadata": {},
          "execution_count": 9
        }
      ]
    },
    {
      "cell_type": "markdown",
      "metadata": {
        "id": "bU0BMfSnyK8F"
      },
      "source": [
        "Data yang missing pada kolom 'Name' adalah 4 data, sedangkan kolom 'USD Pledge' adalah 3797 missing data. "
      ]
    },
    {
      "cell_type": "code",
      "metadata": {
        "id": "emsuRAUEF7Ei"
      },
      "source": [
        "#Mengatasi missing data pada kolom 'Name' dan 'USD Pledged' dengan cara menghapus kolom yang terdapat missing value\n",
        "data.dropna(axis = 0, inplace = True)"
      ],
      "execution_count": null,
      "outputs": []
    },
    {
      "cell_type": "code",
      "metadata": {
        "colab": {
          "base_uri": "https://localhost:8080/"
        },
        "id": "zpZTuUeSB12j",
        "outputId": "76a3d2b2-ea85-4dfb-f1d0-5628100d76f5"
      },
      "source": [
        "data.info()"
      ],
      "execution_count": null,
      "outputs": [
        {
          "output_type": "stream",
          "name": "stdout",
          "text": [
            "<class 'pandas.core.frame.DataFrame'>\n",
            "Int64Index: 374860 entries, 0 to 378660\n",
            "Data columns (total 15 columns):\n",
            " #   Column            Non-Null Count   Dtype  \n",
            "---  ------            --------------   -----  \n",
            " 0   ID                374860 non-null  int64  \n",
            " 1   name              374860 non-null  object \n",
            " 2   category          374860 non-null  object \n",
            " 3   main_category     374860 non-null  object \n",
            " 4   currency          374860 non-null  object \n",
            " 5   deadline          374860 non-null  object \n",
            " 6   goal              374860 non-null  float64\n",
            " 7   launched          374860 non-null  object \n",
            " 8   pledged           374860 non-null  float64\n",
            " 9   state             374860 non-null  object \n",
            " 10  backers           374860 non-null  int64  \n",
            " 11  country           374860 non-null  object \n",
            " 12  usd pledged       374860 non-null  float64\n",
            " 13  usd_pledged_real  374860 non-null  float64\n",
            " 14  usd_goal_real     374860 non-null  float64\n",
            "dtypes: float64(5), int64(2), object(8)\n",
            "memory usage: 45.8+ MB\n"
          ]
        }
      ]
    },
    {
      "cell_type": "markdown",
      "metadata": {
        "id": "WBfsCLUnHBWD"
      },
      "source": [
        "Sekarang sudah tidak ada data yang missing pada kolom data diatas."
      ]
    },
    {
      "cell_type": "markdown",
      "metadata": {
        "id": "bTOPAYZbqc4h"
      },
      "source": [
        "#Explorasi Data"
      ]
    },
    {
      "cell_type": "code",
      "metadata": {
        "colab": {
          "base_uri": "https://localhost:8080/",
          "height": 281
        },
        "id": "5kAQGA0Wqhag",
        "outputId": "33beac90-1ee7-450a-8e3a-1c98b3c095c0"
      },
      "source": [
        "#Melakukan eksplorasi data menggunakan query, groupby, dan aggregating\n",
        "query = data[\n",
        "    (data['category'] == 'Film & Video') &\n",
        "    (data['state'] == 'failed') &\n",
        "    (data['goal'] > 100000) &\n",
        "    (data['country'] == 'US')]\n",
        "query.head(3)"
      ],
      "execution_count": null,
      "outputs": [
        {
          "output_type": "execute_result",
          "data": {
            "text/html": [
              "<div>\n",
              "<style scoped>\n",
              "    .dataframe tbody tr th:only-of-type {\n",
              "        vertical-align: middle;\n",
              "    }\n",
              "\n",
              "    .dataframe tbody tr th {\n",
              "        vertical-align: top;\n",
              "    }\n",
              "\n",
              "    .dataframe thead th {\n",
              "        text-align: right;\n",
              "    }\n",
              "</style>\n",
              "<table border=\"1\" class=\"dataframe\">\n",
              "  <thead>\n",
              "    <tr style=\"text-align: right;\">\n",
              "      <th></th>\n",
              "      <th>ID</th>\n",
              "      <th>name</th>\n",
              "      <th>category</th>\n",
              "      <th>main_category</th>\n",
              "      <th>currency</th>\n",
              "      <th>deadline</th>\n",
              "      <th>goal</th>\n",
              "      <th>launched</th>\n",
              "      <th>pledged</th>\n",
              "      <th>state</th>\n",
              "      <th>backers</th>\n",
              "      <th>country</th>\n",
              "      <th>usd pledged</th>\n",
              "      <th>usd_pledged_real</th>\n",
              "      <th>usd_goal_real</th>\n",
              "    </tr>\n",
              "  </thead>\n",
              "  <tbody>\n",
              "    <tr>\n",
              "      <th>754</th>\n",
              "      <td>1003666645</td>\n",
              "      <td>Life Online</td>\n",
              "      <td>Film &amp; Video</td>\n",
              "      <td>Film &amp; Video</td>\n",
              "      <td>USD</td>\n",
              "      <td>2012-05-06</td>\n",
              "      <td>300000.0</td>\n",
              "      <td>2012-04-06 17:22:29</td>\n",
              "      <td>1.0</td>\n",
              "      <td>failed</td>\n",
              "      <td>1</td>\n",
              "      <td>US</td>\n",
              "      <td>1.0</td>\n",
              "      <td>1.0</td>\n",
              "      <td>300000.0</td>\n",
              "    </tr>\n",
              "    <tr>\n",
              "      <th>1042</th>\n",
              "      <td>1005237669</td>\n",
              "      <td>The Old Soul of a Lion</td>\n",
              "      <td>Film &amp; Video</td>\n",
              "      <td>Film &amp; Video</td>\n",
              "      <td>USD</td>\n",
              "      <td>2014-10-14</td>\n",
              "      <td>3000000.0</td>\n",
              "      <td>2014-08-15 20:16:22</td>\n",
              "      <td>4.0</td>\n",
              "      <td>failed</td>\n",
              "      <td>2</td>\n",
              "      <td>US</td>\n",
              "      <td>4.0</td>\n",
              "      <td>4.0</td>\n",
              "      <td>3000000.0</td>\n",
              "    </tr>\n",
              "    <tr>\n",
              "      <th>4579</th>\n",
              "      <td>1023409922</td>\n",
              "      <td>BUILDING a FARM</td>\n",
              "      <td>Film &amp; Video</td>\n",
              "      <td>Film &amp; Video</td>\n",
              "      <td>USD</td>\n",
              "      <td>2012-02-03</td>\n",
              "      <td>200000.0</td>\n",
              "      <td>2012-01-04 05:08:18</td>\n",
              "      <td>36.0</td>\n",
              "      <td>failed</td>\n",
              "      <td>3</td>\n",
              "      <td>US</td>\n",
              "      <td>36.0</td>\n",
              "      <td>36.0</td>\n",
              "      <td>200000.0</td>\n",
              "    </tr>\n",
              "  </tbody>\n",
              "</table>\n",
              "</div>"
            ],
            "text/plain": [
              "              ID                    name  ... usd_pledged_real usd_goal_real\n",
              "754   1003666645             Life Online  ...              1.0      300000.0\n",
              "1042  1005237669  The Old Soul of a Lion  ...              4.0     3000000.0\n",
              "4579  1023409922         BUILDING a FARM  ...             36.0      200000.0\n",
              "\n",
              "[3 rows x 15 columns]"
            ]
          },
          "metadata": {},
          "execution_count": 37
        }
      ]
    },
    {
      "cell_type": "markdown",
      "metadata": {
        "id": "Y3zkJU2Lt0hc"
      },
      "source": [
        "Menampilkan project dengan kategori Film & Video yang statusnya Failed, dengan goal diatas 100.000, dan dari negara US."
      ]
    },
    {
      "cell_type": "code",
      "metadata": {
        "colab": {
          "base_uri": "https://localhost:8080/"
        },
        "id": "NVKNwR1PvgVV",
        "outputId": "a4ba1922-71fa-46a2-9c60-1162d9dc7bb2"
      },
      "source": [
        "data[\n",
        "    (data['category'] == 'Zines') &\n",
        "    (data['state'] == 'live')\n",
        "].groupby(['name', 'main_category']) ['ID'].count()"
      ],
      "execution_count": null,
      "outputs": [
        {
          "output_type": "execute_result",
          "data": {
            "text/plain": [
              "name                                                        main_category\n",
              "1212MAG | One step closer                                   Publishing       1\n",
              "Cirsova 2018 Spring/Summer Subscription                     Publishing       1\n",
              "Create, Connect, and Inspire with LEFAIR Magazine           Publishing       1\n",
              "L'Ennui, fanzine numéro 3                                   Publishing       1\n",
              "Make 100 | EXPAND - A Zine, First Issue 0001                Publishing       1\n",
              "PELO                                                        Publishing       1\n",
              "Queer Creative Collab Tour                                  Publishing       1\n",
              "Relative Nowhere                                            Publishing       1\n",
              "Surat: 1st magazine using an endangered script in 50 years  Publishing       1\n",
              "Name: ID, dtype: int64"
            ]
          },
          "metadata": {},
          "execution_count": 51
        }
      ]
    },
    {
      "cell_type": "markdown",
      "metadata": {
        "id": "SO4B-hz1yQmP"
      },
      "source": [
        "Menampilkan data yang kategori projectnya 'Zines' dengan status 'Live', dengan menampilan juga nama projectnya dan main kategorinya."
      ]
    },
    {
      "cell_type": "markdown",
      "metadata": {
        "id": "v8pQKTpwpq1V"
      },
      "source": [
        "#Measure of Central Tendency"
      ]
    },
    {
      "cell_type": "code",
      "metadata": {
        "colab": {
          "base_uri": "https://localhost:8080/"
        },
        "id": "YIECFt5ypwEm",
        "outputId": "8d720cb3-d33d-437a-f9a1-cdd6e95e2329"
      },
      "source": [
        "#Mencari Mean, Median, dan Modus dalam kolom data 'Goal'\n",
        "print ('Mean: ' + str (data['goal'].mean()))\n",
        "print ('Median: ' + str(data['goal'].median()))\n",
        "print ('Mode: ' + str(data['goal'].mode()[0]))"
      ],
      "execution_count": null,
      "outputs": [
        {
          "output_type": "stream",
          "name": "stdout",
          "text": [
            "Mean: 49522.988841087354\n",
            "Median: 5500.0\n",
            "Mode: 5000.0\n"
          ]
        }
      ]
    },
    {
      "cell_type": "markdown",
      "metadata": {
        "id": "kEJSSumVq7sC"
      },
      "source": [
        "\n",
        "\n",
        "1. Nilai mean (rata - rata) pada kolom data 'Goal' adalah 45978.96872498965\n",
        "2. Nilai median (nilai tengah) pada kolom data 'Goal' adalah 5120.0\n",
        "3. Nilai modus (nilai yang sering muncul pada suatu data) pada kolom data 'Goal' adalah 5000.0\n",
        "\n"
      ]
    },
    {
      "cell_type": "markdown",
      "metadata": {
        "id": "YTzYvivrtRDP"
      },
      "source": [
        "#Measure of Variance"
      ]
    },
    {
      "cell_type": "code",
      "metadata": {
        "colab": {
          "base_uri": "https://localhost:8080/"
        },
        "id": "nhHqs-zctYGm",
        "outputId": "a4c6734a-cd71-4f67-f064-cff22c4601a9"
      },
      "source": [
        "#Mencari Range, Variance, dan Standar Deviation dalam suatu data kolom\n",
        "kolom_data = ['goal', 'usd_goal_real']\n",
        "for kolom in kolom_data:\n",
        "    print(data[kolom].name + ' range: ' + str(data[kolom].max() - data[kolom].min()))\n",
        "print('')\n",
        "for Variance in kolom_data:\n",
        "    print(data[Variance].name + ' Variance: ' + str(data[Variance].var()))\n",
        "print('')\n",
        "for Standard_Deviation in kolom_data:\n",
        "    print(data[Standard_Deviation].name + ' Standard Deviation: ' + str(data[Standard_Deviation].std()))"
      ],
      "execution_count": null,
      "outputs": [
        {
          "output_type": "stream",
          "name": "stdout",
          "text": [
            "goal range: 99999999.99\n",
            "usd_goal_real range: 166361390.70000002\n",
            "\n",
            "goal Variance: 1414581018455.966\n",
            "usd_goal_real Variance: 1342741824113.8914\n",
            "\n",
            "goal Standard Deviation: 1189361.6012197325\n",
            "usd_goal_real Standard Deviation: 1158767.3727344463\n"
          ]
        }
      ]
    },
    {
      "cell_type": "markdown",
      "metadata": {
        "id": "YzD7Rflo8Cqd"
      },
      "source": [
        "1. Mencari nilai range (rentang suatu data antara data terndah dan tertingginya) dalam kolom data 'Goal' dan 'USD Goal Real'. Adapun Range data 'Goal' adalah 99999999.0, dan Range 'USD Goal Real' adalah 166361390.22.\\\n",
        "2. Nilai Variance pada data kolom 'Goal' adalah 1414581018455.966, sedangkan pada kolom 'USD Goal Real' adalah 1342741824113.8914.\n",
        "3. Standar Deviasi pada kolom data 'Goal' adalah 1189361.6012197325, sedangkan pada kolom data 'USD Goal Real' adalah 1158767.3727344463."
      ]
    },
    {
      "cell_type": "markdown",
      "metadata": {
        "id": "c5D6-k0mNwPQ"
      },
      "source": [
        "#Hypothesis Testing"
      ]
    },
    {
      "cell_type": "code",
      "metadata": {
        "colab": {
          "base_uri": "https://localhost:8080/"
        },
        "id": "r7RSpNtWN7ia",
        "outputId": "83434781-5702-4a38-ec66-6fa32fc9ecdf"
      },
      "source": [
        "#Mencari Confidence Intervals pada kolom 'Goal'\n",
        "a = data['goal']\n",
        "stats.norm.interval(0.95, loc=np.mean(a), scale=stats.sem(a))"
      ],
      "execution_count": null,
      "outputs": [
        {
          "output_type": "execute_result",
          "data": {
            "text/plain": [
              "(45715.59806265791, 53330.379619516796)"
            ]
          },
          "metadata": {},
          "execution_count": 15
        }
      ]
    },
    {
      "cell_type": "markdown",
      "metadata": {
        "id": "5aCVc2tbb8pG"
      },
      "source": [
        "Nilai confidence intervals(rentang nilai pada rata - rata suatu data) untuk data kolom 'goal' adalah antara 45715.59806265791 sampai dengan 53330.379619516796."
      ]
    },
    {
      "cell_type": "code",
      "metadata": {
        "colab": {
          "base_uri": "https://localhost:8080/",
          "height": 400
        },
        "id": "hPIkCdEPcGHp",
        "outputId": "9269fe05-6b47-41be-9818-8a19173339b2"
      },
      "source": [
        "#Membuat hipotesis dengan Chi-Squared test\n",
        "chi_data = pd.read_csv('/content/ks-projects-201801.csv')\n",
        "chi_data.head(3)"
      ],
      "execution_count": null,
      "outputs": [
        {
          "output_type": "execute_result",
          "data": {
            "text/html": [
              "<div>\n",
              "<style scoped>\n",
              "    .dataframe tbody tr th:only-of-type {\n",
              "        vertical-align: middle;\n",
              "    }\n",
              "\n",
              "    .dataframe tbody tr th {\n",
              "        vertical-align: top;\n",
              "    }\n",
              "\n",
              "    .dataframe thead th {\n",
              "        text-align: right;\n",
              "    }\n",
              "</style>\n",
              "<table border=\"1\" class=\"dataframe\">\n",
              "  <thead>\n",
              "    <tr style=\"text-align: right;\">\n",
              "      <th></th>\n",
              "      <th>ID</th>\n",
              "      <th>name</th>\n",
              "      <th>category</th>\n",
              "      <th>main_category</th>\n",
              "      <th>currency</th>\n",
              "      <th>deadline</th>\n",
              "      <th>goal</th>\n",
              "      <th>launched</th>\n",
              "      <th>pledged</th>\n",
              "      <th>state</th>\n",
              "      <th>backers</th>\n",
              "      <th>country</th>\n",
              "      <th>usd pledged</th>\n",
              "      <th>usd_pledged_real</th>\n",
              "      <th>usd_goal_real</th>\n",
              "    </tr>\n",
              "  </thead>\n",
              "  <tbody>\n",
              "    <tr>\n",
              "      <th>0</th>\n",
              "      <td>1000002330</td>\n",
              "      <td>The Songs of Adelaide &amp; Abullah</td>\n",
              "      <td>Poetry</td>\n",
              "      <td>Publishing</td>\n",
              "      <td>GBP</td>\n",
              "      <td>2015-10-09</td>\n",
              "      <td>1000.0</td>\n",
              "      <td>2015-08-11 12:12:28</td>\n",
              "      <td>0.0</td>\n",
              "      <td>failed</td>\n",
              "      <td>0</td>\n",
              "      <td>GB</td>\n",
              "      <td>0.0</td>\n",
              "      <td>0.0</td>\n",
              "      <td>1533.95</td>\n",
              "    </tr>\n",
              "    <tr>\n",
              "      <th>1</th>\n",
              "      <td>1000003930</td>\n",
              "      <td>Greeting From Earth: ZGAC Arts Capsule For ET</td>\n",
              "      <td>Narrative Film</td>\n",
              "      <td>Film &amp; Video</td>\n",
              "      <td>USD</td>\n",
              "      <td>2017-11-01</td>\n",
              "      <td>30000.0</td>\n",
              "      <td>2017-09-02 04:43:57</td>\n",
              "      <td>2421.0</td>\n",
              "      <td>failed</td>\n",
              "      <td>15</td>\n",
              "      <td>US</td>\n",
              "      <td>100.0</td>\n",
              "      <td>2421.0</td>\n",
              "      <td>30000.00</td>\n",
              "    </tr>\n",
              "    <tr>\n",
              "      <th>2</th>\n",
              "      <td>1000004038</td>\n",
              "      <td>Where is Hank?</td>\n",
              "      <td>Narrative Film</td>\n",
              "      <td>Film &amp; Video</td>\n",
              "      <td>USD</td>\n",
              "      <td>2013-02-26</td>\n",
              "      <td>45000.0</td>\n",
              "      <td>2013-01-12 00:20:50</td>\n",
              "      <td>220.0</td>\n",
              "      <td>failed</td>\n",
              "      <td>3</td>\n",
              "      <td>US</td>\n",
              "      <td>220.0</td>\n",
              "      <td>220.0</td>\n",
              "      <td>45000.00</td>\n",
              "    </tr>\n",
              "  </tbody>\n",
              "</table>\n",
              "</div>"
            ],
            "text/plain": [
              "           ID  ... usd_goal_real\n",
              "0  1000002330  ...       1533.95\n",
              "1  1000003930  ...      30000.00\n",
              "2  1000004038  ...      45000.00\n",
              "\n",
              "[3 rows x 15 columns]"
            ]
          },
          "metadata": {},
          "execution_count": 16
        }
      ]
    },
    {
      "cell_type": "markdown",
      "metadata": {
        "id": "FgQG4Pndctxg"
      },
      "source": [
        "**Apakah ada hubungan antara kategori project dengan status project saat ini?**\\\n",
        "H0 = Tidak ada kaitan antara status project saat ini dengan kategori project\\\n",
        "Ha = Ada kaitan antara status project saat ini dengan kategori project"
      ]
    },
    {
      "cell_type": "code",
      "metadata": {
        "colab": {
          "base_uri": "https://localhost:8080/",
          "height": 450
        },
        "id": "0o33GekpcYqA",
        "outputId": "d0438fe6-e1f5-4e87-b401-4903fde8e3db"
      },
      "source": [
        "#Membuat tabel contigency\n",
        "contingency_table=pd.crosstab(chi_data['category'],chi_data['state'])\n",
        "contingency_table"
      ],
      "execution_count": null,
      "outputs": [
        {
          "output_type": "execute_result",
          "data": {
            "text/html": [
              "<div>\n",
              "<style scoped>\n",
              "    .dataframe tbody tr th:only-of-type {\n",
              "        vertical-align: middle;\n",
              "    }\n",
              "\n",
              "    .dataframe tbody tr th {\n",
              "        vertical-align: top;\n",
              "    }\n",
              "\n",
              "    .dataframe thead th {\n",
              "        text-align: right;\n",
              "    }\n",
              "</style>\n",
              "<table border=\"1\" class=\"dataframe\">\n",
              "  <thead>\n",
              "    <tr style=\"text-align: right;\">\n",
              "      <th>state</th>\n",
              "      <th>canceled</th>\n",
              "      <th>failed</th>\n",
              "      <th>live</th>\n",
              "      <th>successful</th>\n",
              "      <th>suspended</th>\n",
              "      <th>undefined</th>\n",
              "    </tr>\n",
              "    <tr>\n",
              "      <th>category</th>\n",
              "      <th></th>\n",
              "      <th></th>\n",
              "      <th></th>\n",
              "      <th></th>\n",
              "      <th></th>\n",
              "      <th></th>\n",
              "    </tr>\n",
              "  </thead>\n",
              "  <tbody>\n",
              "    <tr>\n",
              "      <th>3D Printing</th>\n",
              "      <td>91</td>\n",
              "      <td>326</td>\n",
              "      <td>8</td>\n",
              "      <td>242</td>\n",
              "      <td>15</td>\n",
              "      <td>1</td>\n",
              "    </tr>\n",
              "    <tr>\n",
              "      <th>Academic</th>\n",
              "      <td>115</td>\n",
              "      <td>589</td>\n",
              "      <td>11</td>\n",
              "      <td>188</td>\n",
              "      <td>13</td>\n",
              "      <td>0</td>\n",
              "    </tr>\n",
              "    <tr>\n",
              "      <th>Accessories</th>\n",
              "      <td>340</td>\n",
              "      <td>1667</td>\n",
              "      <td>53</td>\n",
              "      <td>1073</td>\n",
              "      <td>29</td>\n",
              "      <td>3</td>\n",
              "    </tr>\n",
              "    <tr>\n",
              "      <th>Action</th>\n",
              "      <td>109</td>\n",
              "      <td>514</td>\n",
              "      <td>7</td>\n",
              "      <td>107</td>\n",
              "      <td>3</td>\n",
              "      <td>0</td>\n",
              "    </tr>\n",
              "    <tr>\n",
              "      <th>Animals</th>\n",
              "      <td>18</td>\n",
              "      <td>166</td>\n",
              "      <td>3</td>\n",
              "      <td>63</td>\n",
              "      <td>5</td>\n",
              "      <td>0</td>\n",
              "    </tr>\n",
              "    <tr>\n",
              "      <th>...</th>\n",
              "      <td>...</td>\n",
              "      <td>...</td>\n",
              "      <td>...</td>\n",
              "      <td>...</td>\n",
              "      <td>...</td>\n",
              "      <td>...</td>\n",
              "    </tr>\n",
              "    <tr>\n",
              "      <th>Woodworking</th>\n",
              "      <td>92</td>\n",
              "      <td>766</td>\n",
              "      <td>11</td>\n",
              "      <td>292</td>\n",
              "      <td>6</td>\n",
              "      <td>0</td>\n",
              "    </tr>\n",
              "    <tr>\n",
              "      <th>Workshops</th>\n",
              "      <td>10</td>\n",
              "      <td>98</td>\n",
              "      <td>4</td>\n",
              "      <td>50</td>\n",
              "      <td>2</td>\n",
              "      <td>0</td>\n",
              "    </tr>\n",
              "    <tr>\n",
              "      <th>World Music</th>\n",
              "      <td>143</td>\n",
              "      <td>1018</td>\n",
              "      <td>13</td>\n",
              "      <td>922</td>\n",
              "      <td>6</td>\n",
              "      <td>0</td>\n",
              "    </tr>\n",
              "    <tr>\n",
              "      <th>Young Adult</th>\n",
              "      <td>96</td>\n",
              "      <td>538</td>\n",
              "      <td>10</td>\n",
              "      <td>172</td>\n",
              "      <td>5</td>\n",
              "      <td>0</td>\n",
              "    </tr>\n",
              "    <tr>\n",
              "      <th>Zines</th>\n",
              "      <td>26</td>\n",
              "      <td>176</td>\n",
              "      <td>9</td>\n",
              "      <td>179</td>\n",
              "      <td>1</td>\n",
              "      <td>0</td>\n",
              "    </tr>\n",
              "  </tbody>\n",
              "</table>\n",
              "<p>159 rows × 6 columns</p>\n",
              "</div>"
            ],
            "text/plain": [
              "state        canceled  failed  live  successful  suspended  undefined\n",
              "category                                                             \n",
              "3D Printing        91     326     8         242         15          1\n",
              "Academic          115     589    11         188         13          0\n",
              "Accessories       340    1667    53        1073         29          3\n",
              "Action            109     514     7         107          3          0\n",
              "Animals            18     166     3          63          5          0\n",
              "...               ...     ...   ...         ...        ...        ...\n",
              "Woodworking        92     766    11         292          6          0\n",
              "Workshops          10      98     4          50          2          0\n",
              "World Music       143    1018    13         922          6          0\n",
              "Young Adult        96     538    10         172          5          0\n",
              "Zines              26     176     9         179          1          0\n",
              "\n",
              "[159 rows x 6 columns]"
            ]
          },
          "metadata": {},
          "execution_count": 17
        }
      ]
    },
    {
      "cell_type": "code",
      "metadata": {
        "colab": {
          "base_uri": "https://localhost:8080/"
        },
        "id": "6QflHDuKdp9_",
        "outputId": "7e537a90-a256-4f70-adac-4cdc1c41f617"
      },
      "source": [
        "stat, p, dof, expected = stats.chi2_contingency(contingency_table)\n",
        "print('stat=%.3f, p=%.3f' % (stat, p))\n",
        "if p > 0.05:\n",
        "    print('Kemungkinan tidak berkaitan')\n",
        "else:\n",
        "    print('Kemungkinan berkaitan')"
      ],
      "execution_count": null,
      "outputs": [
        {
          "output_type": "stream",
          "name": "stdout",
          "text": [
            "stat=83380.873, p=0.000\n",
            "Kemungkinan berkaitan\n"
          ]
        }
      ]
    },
    {
      "cell_type": "markdown",
      "metadata": {
        "id": "Zx4yzTFGenei"
      },
      "source": [
        "Kesimpulan dari hipotesis 'Apakah ada hubungan antara kategori project dengan status project saat ini?' yang telah di uji dengan menggunakan Chi-Squared test adalah Ha diterima yang artinya ada hubungan antara status project saat ini dengan kategori project."
      ]
    },
    {
      "cell_type": "markdown",
      "metadata": {
        "id": "mnVrLMOZ0yyq"
      },
      "source": [
        "#Kesimpulan"
      ]
    },
    {
      "cell_type": "markdown",
      "metadata": {
        "id": "0ynV8106Huzk"
      },
      "source": [
        "Setelah melakukan pengolahan data terhadap dataset Kickstarter Projects dapat diambil hasil/kesimpulan dari pengolahan data tersebut, diantaranya adalah:\n",
        "1. Membaca data set CSV menggunakan library pandas, adapun missing value pada data tersebut terdapat di kolom 'Name' dan 'USD Pledged' dan cara menangani missing valuenya dengan cara menghapus kolom yang terdapat missing data. Untuk eksplorasi data menggunakan query, groupby dan aggregating.\n",
        "\n",
        "2. Adapun nilai Measure of Central Tendency pada kolom data 'Goal' adalah:\n",
        "   - mean (rata - rata) adalah 45978.96872498965\n",
        "   - median (nilai tengah) adalah 5120.0,\n",
        "   - modus (nilai yang sering muncul pada suatu data) adalah 5000.0.\n",
        "\n",
        "3. Adapun nilai Measure of Central Tendency pada kolom data 'goal' dan 'usd_goal_real' adalah:\n",
        "   - nilai range 'Goal' adalah 99999999.0, dan Range 'USD Goal Real' adalah 166361390.22.\n",
        "   - Nilai Variance pada data kolom 'Goal' adalah 1414581018455.966, sedangkan pada kolom 'USD Goal Real' adalah 1342741824113.8914.\n",
        "   - Standar Deviasi pada kolom data 'Goal' adalah 1189361.6012197325, sedangkan pada kolom data 'USD Goal Real' adalah 1158767.3727344463\n",
        "\n",
        "4. Nilai confidence intervals(rentang nilai pada rata - rata suatu data) untuk data kolom 'goal' adalah antara 45715.59806265791 sampai dengan 53330.379619516796.\n",
        "\n",
        "5. Sedangkan untuk hipotesis testingnya menggunakan Chi-Squared test. Adapun hipotesis, H0, dan H1 nya adalah :\n",
        "'**Apakah ada hubungan antara kategori project dengan status project saat ini?**'\\\n",
        "H0 = Tidak ada kaitan antara status project saat ini dengan kategori project\\\n",
        "Ha = Ada kaitan antara status project saat ini dengan kategori project\n",
        "\n",
        "  Dan setelah dilakukan hipotesis testing menggunakan Chi-Squered test kesimpulan yang didapat adalah Ha diterima yang artinya ada hubungan antara status project saat ini dengan kategori project."
      ]
    }
  ]
}